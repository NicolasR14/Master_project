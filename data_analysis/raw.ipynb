{
 "cells": [
  {
   "cell_type": "code",
   "execution_count": 2,
   "metadata": {},
   "outputs": [],
   "source": [
    "import os\n",
    "import random\n",
    "import numpy as np\n",
    "import pandas as pd\n",
    "import tensorflow as tf\n",
    "from tensorflow import keras\n",
    "import matplotlib.pyplot as plt\n",
    "# from ROI_extraction import preprocess_image\n",
    "import cv2\n",
    "import os\n",
    "# Set the path to dataset\n",
    "dataset_path = '../images/3regimes/'\n",
    "\n",
    "ids = []\n",
    "labels = {}\n",
    "classes = {'excess':1,'normal':0,'insufficient':2}\n",
    "for class_name in os.listdir(dataset_path):\n",
    "    class_path = os.path.join(dataset_path, class_name)\n",
    "    if os.path.isdir(class_path):\n",
    "        for filename in os.listdir(class_path) :\n",
    "            if filename.endswith((\".jpg\", \".jpeg\", \".png\")):\n",
    "                img_path = os.path.join(class_path, filename) \n",
    "                ids.append(img_path)\n",
    "                labels[img_path]=classes[class_name]\n",
    "\n",
    "# Set the input image dimensions\n",
    "img_width, img_height = 800, 800\n",
    "n_channels = 3\n",
    "\n",
    "params = {'dim': (img_height,img_width),\n",
    "          'batch_size': 64,\n",
    "          'n_classes': 3,\n",
    "          'n_channels': n_channels,\n",
    "          'shuffle': False}\n",
    "\n",
    "# Set the number of classes\n",
    "num_classes = 3\n",
    "\n",
    "def data_generation(list_IDs_temp):\n",
    "    y = np.empty((len(list_IDs_temp)), dtype=int)\n",
    "    X = []\n",
    "    for i, ID in enumerate(list_IDs_temp):\n",
    "        img= cv2.imread(ID)\n",
    "        img = cv2.cvtColor(img, cv2.COLOR_BGR2HSV)\n",
    "        H_val,S_val,V_val = img[:,:,0],img[:,:,1],img[:,:,2]\n",
    "        # Extract the mean values of hue, saturation, and value\n",
    "        H_mean = np.mean(H_val)\n",
    "        S_mean = np.mean(S_val)\n",
    "        V_mean = np.mean(V_val)\n",
    "        # Extract the standard deviation of hue, saturation, and value\n",
    "        H_std = np.std(H_val)\n",
    "        S_std = np.std(S_val)\n",
    "        V_std = np.std(V_val)\n",
    "        X.append([H_mean,H_std,S_mean,S_std,V_mean,V_std])\n",
    "        y[i] = labels[ID]\n",
    "    return pd.DataFrame(X,columns=['H_mean','H_std','S_mean','S_std','V_mean','V_std']),keras.utils.to_categorical(y, num_classes=params['n_classes']),y"
   ]
  },
  {
   "cell_type": "code",
   "execution_count": 3,
   "metadata": {},
   "outputs": [],
   "source": [
    "X,y_categorical,y = data_generation(ids)"
   ]
  },
  {
   "cell_type": "code",
   "execution_count": 10,
   "metadata": {},
   "outputs": [
    {
     "name": "stdout",
     "output_type": "stream",
     "text": [
      "excess\n",
      "H_mean     14.994256\n",
      "H_std      34.438097\n",
      "S_mean    144.734035\n",
      "S_std      85.391781\n",
      "V_mean     38.784786\n",
      "V_std      39.090767\n",
      "dtype: float64\n",
      "\n",
      "normal\n",
      "H_mean     23.552977\n",
      "H_std      45.330900\n",
      "S_mean    155.847251\n",
      "S_std      78.091102\n",
      "V_mean    128.596100\n",
      "V_std      94.845919\n",
      "dtype: float64\n",
      "\n",
      "insufficient\n",
      "H_mean     15.343963\n",
      "H_std      34.983598\n",
      "S_mean    142.652974\n",
      "S_std      83.594886\n",
      "V_mean     32.886668\n",
      "V_std      30.133873\n",
      "dtype: float64\n",
      "\n"
     ]
    }
   ],
   "source": [
    "for c in classes:\n",
    "    print(f'{c}\\n{X[y==classes[c]].mean()}\\n')"
   ]
  }
 ],
 "metadata": {
  "kernelspec": {
   "display_name": "env_master_project",
   "language": "python",
   "name": "python3"
  },
  "language_info": {
   "codemirror_mode": {
    "name": "ipython",
    "version": 3
   },
   "file_extension": ".py",
   "mimetype": "text/x-python",
   "name": "python",
   "nbconvert_exporter": "python",
   "pygments_lexer": "ipython3",
   "version": "3.10.10"
  },
  "orig_nbformat": 4
 },
 "nbformat": 4,
 "nbformat_minor": 2
}
