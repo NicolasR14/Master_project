{
 "cells": [
  {
   "cell_type": "code",
   "execution_count": 1,
   "metadata": {},
   "outputs": [],
   "source": [
    "import os\n",
    "import random\n",
    "import numpy as np\n",
    "import pandas as pd\n",
    "import tensorflow as tf\n",
    "from tensorflow import keras\n",
    "import matplotlib.pyplot as plt\n",
    "# from ROI_extraction import preprocess_image\n",
    "import cv2\n",
    "import os\n",
    "# Set the path to dataset\n",
    "dataset_path = '../images/3regimes/'\n",
    "\n",
    "ids = []\n",
    "labels = {}\n",
    "classes = {'excess':1,'normal':0,'insufficient':2}\n",
    "for class_name in os.listdir(dataset_path):\n",
    "    class_path = os.path.join(dataset_path, class_name)\n",
    "    if os.path.isdir(class_path):\n",
    "        for filename in os.listdir(class_path) :\n",
    "            if filename.endswith((\".jpg\", \".jpeg\", \".png\")):\n",
    "                img_path = os.path.join(class_path, filename) \n",
    "                ids.append(img_path)\n",
    "                labels[img_path]=classes[class_name]\n",
    "\n",
    "# Set the input image dimensions\n",
    "img_width, img_height = 800, 800\n",
    "n_channels = 3\n",
    "\n",
    "params = {'dim': (img_height,img_width),\n",
    "          'batch_size': 64,\n",
    "          'n_classes': 3,\n",
    "          'n_channels': n_channels,\n",
    "          'shuffle': False}\n",
    "\n",
    "# Set the number of classes\n",
    "num_classes = 3\n",
    "\n",
    "def data_generation(list_IDs_temp):\n",
    "    y = np.empty((len(list_IDs_temp)), dtype=int)\n",
    "    X = []\n",
    "    for i, ID in enumerate(list_IDs_temp):\n",
    "        img= cv2.imread(ID)\n",
    "        B_val,G_val,R_val = img[:,:,0],img[:,:,1],img[:,:,2]\n",
    "        # Extract the mean values of hue, saturation, and value\n",
    "        R_mean = np.mean(R_val)\n",
    "        G_mean = np.mean(G_val)\n",
    "        B_mean = np.mean(B_val)\n",
    "        # Extract the standard deviation of hue, saturation, and value\n",
    "        R_std = np.std(R_val)\n",
    "        G_std = np.std(G_val)\n",
    "        B_std = np.std(B_val)\n",
    "        # Extract the contrast values of hue, saturation, and value\n",
    "        # H_max,S_max,V_max = np.max(H_val),np.max(S_val),np.max(V_val)\n",
    "        # H_min,S_min,V_min = np.min(H_val),np.min(S_val),np.min(V_val)\n",
    "        # H_contrast = (H_max - H_min) / (H_max + H_min)\n",
    "        # S_contrast = (S_max - S_min) / (S_max + S_min)\n",
    "        # V_contrast = (V_max - V_min) / (V_max + V_min)\n",
    "        X.append([R_mean,R_std,G_mean,G_std,B_mean,B_std])\n",
    "        y[i] = labels[ID]\n",
    "    return pd.DataFrame(X,columns=['R_mean','R_std','G_mean','G_std','B_mean','B_std']),keras.utils.to_categorical(y, num_classes=params['n_classes']),y"
   ]
  },
  {
   "cell_type": "code",
   "execution_count": 2,
   "metadata": {},
   "outputs": [],
   "source": [
    "X,y_categorical,y = data_generation(ids)"
   ]
  },
  {
   "cell_type": "code",
   "execution_count": 3,
   "metadata": {},
   "outputs": [
    {
     "name": "stdout",
     "output_type": "stream",
     "text": [
      "excess\n",
      "R_mean    38.651664\n",
      "R_std     39.200250\n",
      "G_mean    15.443444\n",
      "G_std     13.228848\n",
      "B_mean     8.955291\n",
      "B_std      5.424075\n",
      "dtype: float64\n",
      "\n",
      "normal\n",
      "R_mean    128.572889\n",
      "R_std      94.871096\n",
      "G_mean     60.426629\n",
      "G_std      54.877638\n",
      "B_mean     27.511409\n",
      "B_std      17.857769\n",
      "dtype: float64\n",
      "\n",
      "insufficient\n",
      "R_mean    32.739629\n",
      "R_std     30.262505\n",
      "G_mean    13.375520\n",
      "G_std     10.072094\n",
      "B_mean     8.326216\n",
      "B_std      4.567133\n",
      "dtype: float64\n",
      "\n"
     ]
    }
   ],
   "source": [
    "for c in classes:\n",
    "    print(f'{c}\\n{X[y==classes[c]].mean()}\\n')"
   ]
  }
 ],
 "metadata": {
  "kernelspec": {
   "display_name": "env_master_project",
   "language": "python",
   "name": "python3"
  },
  "language_info": {
   "codemirror_mode": {
    "name": "ipython",
    "version": 3
   },
   "file_extension": ".py",
   "mimetype": "text/x-python",
   "name": "python",
   "nbconvert_exporter": "python",
   "pygments_lexer": "ipython3",
   "version": "3.10.10"
  },
  "orig_nbformat": 4
 },
 "nbformat": 4,
 "nbformat_minor": 2
}
