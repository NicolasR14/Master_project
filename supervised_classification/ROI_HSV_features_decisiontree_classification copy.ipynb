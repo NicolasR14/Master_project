{
 "cells": [
  {
   "cell_type": "code",
   "execution_count": 1,
   "metadata": {},
   "outputs": [],
   "source": [
    "import os\n",
    "import random\n",
    "import numpy as np\n",
    "import pandas as pd\n",
    "import tensorflow as tf\n",
    "from tensorflow import keras\n",
    "import matplotlib.pyplot as plt\n",
    "# from ROI_extraction import preprocess_image\n",
    "import cv2\n",
    "import os\n",
    "# Set the path to dataset\n",
    "dataset_path = '../images/3regimes/'\n",
    "\n",
    "ids = []\n",
    "labels = {}\n",
    "classes = {'excess':1,'normal':0,'insufficient':2}\n",
    "for class_name in os.listdir(dataset_path):\n",
    "    class_path = os.path.join(dataset_path, class_name)\n",
    "    if os.path.isdir(class_path):\n",
    "        for filename in os.listdir(class_path) :\n",
    "            if filename.endswith((\".jpg\", \".jpeg\", \".png\")):\n",
    "                img_path = os.path.join(class_path, filename) \n",
    "                ids.append(img_path)\n",
    "                labels[img_path]=classes[class_name]\n",
    "\n",
    "# Set the input image dimensions\n",
    "img_width, img_height = 100, 100\n",
    "n_channels = 3\n",
    "\n",
    "params = {'dim': (img_height,img_width),\n",
    "          'batch_size': 64,\n",
    "          'n_classes': 3,\n",
    "          'n_channels': n_channels,\n",
    "          'shuffle': False}\n",
    "\n",
    "# Set the number of classes\n",
    "num_classes = 3\n",
    "\n",
    "def correct_gamma(image):\n",
    "    # Convert image to float and normalize to range 0-1\n",
    "    image_normalized = image.astype(float) / 255.0\n",
    "\n",
    "    # Calculate mean R intensity\n",
    "    meanRimg = np.mean(image_normalized[:, :, 2])  # Image is in BGR format\n",
    "    \n",
    "    # Calculate G value\n",
    "    G = 0.74 * np.exp(-3.97 * meanRimg)\n",
    "    \n",
    "    # Apply transformation\n",
    "    transformed_image = np.power(image_normalized, 1 / G)\n",
    "    img_float32 = np.float32(transformed_image)\n",
    "    return img_float32\n",
    "\n",
    "def extract_ROI(original_image):\n",
    "    # Convert to grayscale\n",
    "    gray_image = cv2.cvtColor((original_image*255).astype(np.uint8), cv2.COLOR_BGR2GRAY)\n",
    "    \n",
    "    # # Apply histogram normalization\n",
    "    # normalized_image = cv2.equalizeHist(gray_image)\n",
    "    \n",
    "    # Apply median filtering\n",
    "    filtered_image = cv2.medianBlur(gray_image, 5)\n",
    "    \n",
    "    # Apply Otsu's thresholding\n",
    "    _, thresholded_image = cv2.threshold(filtered_image, 0, 255, cv2.THRESH_BINARY + cv2.THRESH_OTSU)\n",
    "    \n",
    "    # Apply morphological operations\n",
    "    kernel = cv2.getStructuringElement(cv2.MORPH_RECT, (5, 5))\n",
    "    closed_image = cv2.morphologyEx(thresholded_image, cv2.MORPH_CLOSE, kernel)\n",
    "    opened_image = cv2.morphologyEx(closed_image, cv2.MORPH_OPEN, kernel)\n",
    "\n",
    "    # Find contours in the processed image\n",
    "    contours, _ = cv2.findContours(opened_image, cv2.RETR_EXTERNAL, cv2.CHAIN_APPROX_SIMPLE)\n",
    "\n",
    "    # Find the contour with the largest area\n",
    "    contour = max(contours, key=cv2.contourArea)\n",
    "    \n",
    "    # Calculate the moments of the contour\n",
    "    M = cv2.moments(contour)\n",
    "    \n",
    "    # Calculate the center of the contour\n",
    "    center_x = int(M[\"m10\"] / M[\"m00\"])\n",
    "    center_y = int(M[\"m01\"] / M[\"m00\"])\n",
    "    \n",
    "    # Calculate the coordinates of the square ROI\n",
    "    roi_size = img_height\n",
    "    roi_x = center_x - roi_size // 2\n",
    "    roi_y = center_y - roi_size // 2\n",
    "    \n",
    "    return {'contours':contours,'roi_x':roi_x,'roi_y':roi_y,'roi_size':roi_size}\n",
    "\n",
    "def data_generation(list_IDs_temp):\n",
    "    y = np.empty((len(list_IDs_temp)), dtype=int)\n",
    "    X = []\n",
    "    for i, ID in enumerate(list_IDs_temp):\n",
    "        image = cv2.imread(ID)\n",
    "        img_gamma_correct = correct_gamma(image)\n",
    "        ROI = extract_ROI(img_gamma_correct)\n",
    "        ROI = image[ROI['roi_y']:ROI['roi_y']+ROI['roi_size'], ROI['roi_x']:ROI['roi_x']+ROI['roi_size']]\n",
    "        img = cv2.cvtColor(ROI, cv2.COLOR_BGR2HSV)\n",
    "        H_val,S_val,V_val = img[:,:,0],img[:,:,1],img[:,:,2]\n",
    "        # Extract the mean values of hue, saturation, and value\n",
    "        H_mean = np.mean(H_val)\n",
    "        S_mean = np.mean(S_val)\n",
    "        V_mean = np.mean(V_val)\n",
    "        # Extract the standard deviation of hue, saturation, and value\n",
    "        H_std = np.std(H_val)\n",
    "        S_std = np.std(S_val)\n",
    "        V_std = np.std(V_val)\n",
    "        # Extract the contrast values of hue, saturation, and value\n",
    "        # H_max,S_max,V_max = np.max(H_val),np.max(S_val),np.max(V_val)\n",
    "        # H_min,S_min,V_min = np.min(H_val),np.min(S_val),np.min(V_val)\n",
    "        # H_contrast = (H_max - H_min) / (H_max + H_min)\n",
    "        # S_contrast = (S_max - S_min) / (S_max + S_min)\n",
    "        # V_contrast = (V_max - V_min) / (V_max + V_min)\n",
    "        X.append([H_mean,H_std,S_mean,S_std,V_mean,V_std])\n",
    "        y[i] = labels[ID]\n",
    "    return pd.DataFrame(X,columns=['H_mean','H_std','S_mean','S_std','V_mean','V_std']),keras.utils.to_categorical(y, num_classes=params['n_classes']),y\n"
   ]
  },
  {
   "cell_type": "code",
   "execution_count": 2,
   "metadata": {},
   "outputs": [],
   "source": [
    "X,y_categorical,y = data_generation(ids)"
   ]
  },
  {
   "cell_type": "code",
   "execution_count": 3,
   "metadata": {},
   "outputs": [],
   "source": [
    "from sklearn.model_selection import StratifiedKFold\n",
    "from sklearn.model_selection import cross_val_score\n",
    "# Nombre de plis pour la validation croisée k-fold\n",
    "k = 5\n",
    "\n",
    "# Créer une instance de StratifiedKFold avec k plis\n",
    "skf = StratifiedKFold(n_splits=k)\n"
   ]
  },
  {
   "cell_type": "code",
   "execution_count": 8,
   "metadata": {},
   "outputs": [
    {
     "name": "stdout",
     "output_type": "stream",
     "text": [
      "Fold 0:\n",
      "  Train: index=[ 334  335  336 ... 5007 5008 5009]\n",
      "  Test:  index=[   0    1    2 ... 3671 3672 3673]\n",
      "Fold 0: 0.8133732534930139\n",
      "Poids caractéristique 1: 0.8759076624947696\n",
      "Poids caractéristique 2: 0.0\n",
      "Poids caractéristique 3: 0.0026273905015996523\n",
      "Poids caractéristique 4: 0.0\n",
      "Poids caractéristique 5: 0.12146494700363059\n",
      "Poids caractéristique 6: 0.0\n",
      "|--- H_mean <= 8.80\n",
      "|   |--- V_mean <= 177.96\n",
      "|   |   |--- class: 2\n",
      "|   |--- V_mean >  177.96\n",
      "|   |   |--- class: 1\n",
      "|--- H_mean >  8.80\n",
      "|   |--- S_mean <= 215.93\n",
      "|   |   |--- class: 0\n",
      "|   |--- S_mean >  215.93\n",
      "|   |   |--- class: 1\n",
      "\n",
      "Fold 1:\n",
      "  Train: index=[   0    1    2 ... 5007 5008 5009]\n",
      "  Test:  index=[ 334  335  336 ... 4005 4006 4007]\n",
      "Fold 1: 0.7524950099800399\n",
      "Poids caractéristique 1: 0.8585769180228076\n",
      "Poids caractéristique 2: 0.0\n",
      "Poids caractéristique 3: 0.002575404846762941\n",
      "Poids caractéristique 4: 0.0\n",
      "Poids caractéristique 5: 0.13884767713042942\n",
      "Poids caractéristique 6: 0.0\n",
      "|--- H_mean <= 8.80\n",
      "|   |--- V_mean <= 173.14\n",
      "|   |   |--- class: 2\n",
      "|   |--- V_mean >  173.14\n",
      "|   |   |--- class: 1\n",
      "|--- H_mean >  8.80\n",
      "|   |--- S_mean <= 215.93\n",
      "|   |   |--- class: 0\n",
      "|   |--- S_mean >  215.93\n",
      "|   |   |--- class: 1\n",
      "\n",
      "Fold 2:\n",
      "  Train: index=[   0    1    2 ... 5007 5008 5009]\n",
      "  Test:  index=[ 668  669  670 ... 4339 4340 4341]\n",
      "Fold 2: 0.8203592814371258\n",
      "Poids caractéristique 1: 0.8876941013968617\n",
      "Poids caractéristique 2: 0.0\n",
      "Poids caractéristique 3: 0.0\n",
      "Poids caractéristique 4: 0.0\n",
      "Poids caractéristique 5: 0.11230589860313833\n",
      "Poids caractéristique 6: 0.0\n",
      "|--- H_mean <= 9.06\n",
      "|   |--- V_mean <= 177.60\n",
      "|   |   |--- class: 2\n",
      "|   |--- V_mean >  177.60\n",
      "|   |   |--- class: 1\n",
      "|--- H_mean >  9.06\n",
      "|   |--- class: 0\n",
      "\n",
      "Fold 3:\n",
      "  Train: index=[   0    1    2 ... 5007 5008 5009]\n",
      "  Test:  index=[1002 1003 1004 ... 4673 4674 4675]\n",
      "Fold 3: 0.6387225548902196\n",
      "Poids caractéristique 1: 0.18513983834438044\n",
      "Poids caractéristique 2: 0.0\n",
      "Poids caractéristique 3: 0.0\n",
      "Poids caractéristique 4: 0.0\n",
      "Poids caractéristique 5: 0.8148601616556196\n",
      "Poids caractéristique 6: 0.0\n",
      "|--- V_mean <= 250.61\n",
      "|   |--- H_mean <= 6.94\n",
      "|   |   |--- class: 2\n",
      "|   |--- H_mean >  6.94\n",
      "|   |   |--- class: 1\n",
      "|--- V_mean >  250.61\n",
      "|   |--- class: 0\n",
      "\n",
      "Fold 4:\n",
      "  Train: index=[   0    1    2 ... 4673 4674 4675]\n",
      "  Test:  index=[1336 1337 1338 ... 5007 5008 5009]\n",
      "Fold 4: 0.7495009980039921\n",
      "Poids caractéristique 1: 0.9974627587323193\n",
      "Poids caractéristique 2: 0.0\n",
      "Poids caractéristique 3: 0.0025372412676806636\n",
      "Poids caractéristique 4: 0.0\n",
      "Poids caractéristique 5: 0.0\n",
      "Poids caractéristique 6: 0.0\n",
      "|--- H_mean <= 8.80\n",
      "|   |--- H_mean <= 6.99\n",
      "|   |   |--- class: 2\n",
      "|   |--- H_mean >  6.99\n",
      "|   |   |--- class: 1\n",
      "|--- H_mean >  8.80\n",
      "|   |--- S_mean <= 215.93\n",
      "|   |   |--- class: 0\n",
      "|   |--- S_mean >  215.93\n",
      "|   |   |--- class: 1\n",
      "\n",
      "Average Accuracy: 0.7548902195608782\n"
     ]
    }
   ],
   "source": [
    "from sklearn.tree import DecisionTreeClassifier\n",
    "from sklearn import metrics\n",
    "from sklearn.preprocessing import StandardScaler\n",
    "results = {i:{} for i in range(k)}\n",
    "from sklearn.tree import export_text\n",
    "\n",
    "# Initialize a list to store the accuracy scores\n",
    "accuracy_scores = []\n",
    "\n",
    "for i, (train_index, test_index) in enumerate(skf.split(X, y)):\n",
    "    print(f\"Fold {i}:\")\n",
    "    print(f\"  Train: index={train_index}\")\n",
    "    print(f\"  Test:  index={test_index}\")\n",
    "\n",
    "    # Diviser les données d'entraînement et de validation pour ce pli\n",
    "    X_train, X_val = X.iloc[train_index], X.iloc[test_index]\n",
    "\n",
    "    y_train, y_val = y[train_index], y[test_index]\n",
    "\n",
    "    # scaler = StandardScaler()\n",
    "    # X_train = scaler.fit_transform(X_train)\n",
    "    # X_val = scaler.fit_transform(X_val)\n",
    "\n",
    "    # Création de l'arbre de décision\n",
    "    decision_tree = DecisionTreeClassifier(random_state=0, max_depth=2)\n",
    "    \n",
    "    # Entraînement de l'arbre de décision\n",
    "    decision_tree.fit(X_train, y_train)\n",
    "\n",
    "    # Prédiction sur les données de test\n",
    "    y_val_pred = decision_tree.predict(X_val)\n",
    "\n",
    "    # Calculate the accuracy score\n",
    "    accuracy = metrics.accuracy_score(y_val, y_val_pred)\n",
    "\n",
    "    print(f'Fold {i}: {accuracy}')\n",
    "    # Append the accuracy score to the list\n",
    "    accuracy_scores.append(accuracy)\n",
    "\n",
    "    # Affichage des poids des caractéristiques\n",
    "    for i, poids in enumerate(decision_tree.feature_importances_):\n",
    "        print(f\"Poids caractéristique {i+1}: {poids}\")\n",
    "    r = export_text(decision_tree, feature_names=X_train.columns.values.tolist())\n",
    "    print(r)\n",
    "# Compute the average accuracy across all folds\n",
    "average_accuracy = sum(accuracy_scores) / k\n",
    "\n",
    "# Print the average accuracy\n",
    "print(\"Average Accuracy:\", average_accuracy)"
   ]
  },
  {
   "cell_type": "code",
   "execution_count": null,
   "metadata": {},
   "outputs": [
    {
     "data": {
      "text/plain": [
       "['H_mean', 'H_std', 'S_mean', 'S_std', 'V_mean', 'V_std']"
      ]
     },
     "execution_count": 42,
     "metadata": {},
     "output_type": "execute_result"
    }
   ],
   "source": [
    "X_train.columns.values.tolist()"
   ]
  },
  {
   "cell_type": "code",
   "execution_count": null,
   "metadata": {},
   "outputs": [],
   "source": []
  },
  {
   "cell_type": "code",
   "execution_count": null,
   "metadata": {},
   "outputs": [
    {
     "name": "stdout",
     "output_type": "stream",
     "text": [
      "|--- H_mean <= 8.80\n",
      "|   |--- H_mean <= 6.99\n",
      "|   |   |--- class: 2\n",
      "|   |--- H_mean >  6.99\n",
      "|   |   |--- class: 1\n",
      "|--- H_mean >  8.80\n",
      "|   |--- S_mean <= 215.93\n",
      "|   |   |--- class: 0\n",
      "|   |--- S_mean >  215.93\n",
      "|   |   |--- class: 1\n",
      "\n"
     ]
    }
   ],
   "source": []
  },
  {
   "cell_type": "code",
   "execution_count": null,
   "metadata": {},
   "outputs": [
    {
     "data": {
      "text/plain": [
       "H_mean     21.952644\n",
       "H_std       3.349832\n",
       "S_mean    182.340762\n",
       "S_std       8.038009\n",
       "V_mean    253.856298\n",
       "V_std       1.065612\n",
       "dtype: float64"
      ]
     },
     "execution_count": 55,
     "metadata": {},
     "output_type": "execute_result"
    }
   ],
   "source": [
    "X[y==0].mean()"
   ]
  },
  {
   "cell_type": "code",
   "execution_count": null,
   "metadata": {},
   "outputs": [
    {
     "data": {
      "text/plain": [
       "H_mean      7.376497\n",
       "H_std       0.523833\n",
       "S_mean    218.690415\n",
       "S_std       3.015926\n",
       "V_mean    171.870881\n",
       "V_std      23.962581\n",
       "dtype: float64"
      ]
     },
     "execution_count": 56,
     "metadata": {},
     "output_type": "execute_result"
    }
   ],
   "source": [
    "X[y==1].mean()"
   ]
  },
  {
   "cell_type": "code",
   "execution_count": null,
   "metadata": {},
   "outputs": [
    {
     "data": {
      "text/plain": [
       "H_mean      6.977261\n",
       "H_std       0.519825\n",
       "S_mean    216.664462\n",
       "S_std       3.428547\n",
       "V_mean    133.904695\n",
       "V_std      19.126893\n",
       "dtype: float64"
      ]
     },
     "execution_count": 57,
     "metadata": {},
     "output_type": "execute_result"
    }
   ],
   "source": [
    "X[y==2].mean()"
   ]
  },
  {
   "cell_type": "code",
   "execution_count": null,
   "metadata": {},
   "outputs": [
    {
     "name": "stdout",
     "output_type": "stream",
     "text": [
      "0.7980039920159681\n"
     ]
    }
   ],
   "source": [
    "# Création de l'arbre de décision\n",
    "decision_tree = DecisionTreeClassifier(max_depth=3)\n",
    "\n",
    "# Entraînement de l'arbre de décision\n",
    "decision_tree.fit(X, y)\n",
    "\n",
    "# Prédiction sur les données de test\n",
    "y_val_pred = decision_tree.predict(X)\n",
    "\n",
    "# Calculate the accuracy score\n",
    "accuracy = metrics.accuracy_score(y, y_val_pred)\n",
    "print(accuracy)"
   ]
  },
  {
   "cell_type": "code",
   "execution_count": null,
   "metadata": {},
   "outputs": [
    {
     "name": "stdout",
     "output_type": "stream",
     "text": [
      "|--- H_mean <= 8.80\n",
      "|   |--- H_mean <= 7.16\n",
      "|   |   |--- H_std <= 0.46\n",
      "|   |   |   |--- class: 1\n",
      "|   |   |--- H_std >  0.46\n",
      "|   |   |   |--- class: 2\n",
      "|   |--- H_mean >  7.16\n",
      "|   |   |--- V_mean <= 194.49\n",
      "|   |   |   |--- class: 1\n",
      "|   |   |--- V_mean >  194.49\n",
      "|   |   |   |--- class: 1\n",
      "|--- H_mean >  8.80\n",
      "|   |--- S_mean <= 215.93\n",
      "|   |   |--- class: 0\n",
      "|   |--- S_mean >  215.93\n",
      "|   |   |--- class: 1\n",
      "\n"
     ]
    }
   ],
   "source": [
    "r = export_text(decision_tree, feature_names=X_train.columns.values.tolist())\n",
    "print(r)"
   ]
  }
 ],
 "metadata": {
  "kernelspec": {
   "display_name": "env_master_project",
   "language": "python",
   "name": "python3"
  },
  "language_info": {
   "codemirror_mode": {
    "name": "ipython",
    "version": 3
   },
   "file_extension": ".py",
   "mimetype": "text/x-python",
   "name": "python",
   "nbconvert_exporter": "python",
   "pygments_lexer": "ipython3",
   "version": "3.10.10"
  },
  "orig_nbformat": 4
 },
 "nbformat": 4,
 "nbformat_minor": 2
}
