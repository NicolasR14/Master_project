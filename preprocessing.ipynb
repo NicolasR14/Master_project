{
 "cells": [
  {
   "cell_type": "code",
   "execution_count": 1,
   "metadata": {},
   "outputs": [
    {
     "name": "stdout",
     "output_type": "stream",
     "text": [
      "Tensor Flow Version: 2.10.0\n",
      "Keras Version: 2.10.0\n",
      "Python 3.10.10 | packaged by Anaconda, Inc. | (main, Mar 21 2023, 18:39:17) [MSC v.1916 64 bit (AMD64)]\n",
      "Pandas 2.0.0\n",
      "Scikit-Learn 1.2.2\n",
      "GPU is available\n"
     ]
    }
   ],
   "source": [
    "# What version of Python do you have?\n",
    "import sys\n",
    "import os\n",
    "import cv2\n",
    "from matplotlib import pyplot as plt\n",
    "import tensorflow.keras\n",
    "import pandas as pd\n",
    "import sklearn as sk\n",
    "import tensorflow as tf\n",
    "\n",
    "print(f\"Tensor Flow Version: {tf.__version__}\")\n",
    "print(f\"Keras Version: {tensorflow.keras.__version__}\")\n",
    "print(f\"Python {sys.version}\")\n",
    "print(f\"Pandas {pd.__version__}\")\n",
    "print(f\"Scikit-Learn {sk.__version__}\")\n",
    "print(\"GPU is\", \"available\" if tf.test.is_built_with_cuda() else \"NOT AVAILABLE\")"
   ]
  },
  {
   "cell_type": "code",
   "execution_count": 2,
   "metadata": {},
   "outputs": [
    {
     "name": "stdout",
     "output_type": "stream",
     "text": [
      "['lamba0.65.avi', 'lambda0.75.avi', 'lambda0.85.avi']\n",
      "End of video lamba0.65.avi\n",
      "End of video lambda0.75.avi\n",
      "End of video lambda0.85.avi\n"
     ]
    }
   ],
   "source": [
    "#Videos to images\n",
    "import cv2\n",
    "import os\n",
    "\n",
    "# Path of the video file\n",
    "path = 'subset'\n",
    "video_date = '3regimes'\n",
    "video_path = f'{path}/{video_date}/'\n",
    "video_list = os.listdir(video_path)\n",
    "# output_dir = 'subset/images/'+video_date\n",
    "print(video_list)\n",
    "\n",
    "for i,video in enumerate(video_list) :\n",
    "    os.makedirs(f'images\\{video_date}\\{video}')\n",
    "    # Open the video file\n",
    "    cap = cv2.VideoCapture(video_path+video)\n",
    "\n",
    "    # Initialize a frame counter\n",
    "    frame_count = 0\n",
    "    \n",
    "    # Loop through the video frames\n",
    "    while True:\n",
    "        # Read a frame from the video\n",
    "        ret, frame = cap.read()\n",
    "        # If there are no more frames, break out of the loop\n",
    "        if not ret:\n",
    "            print(f'End of video {video}')\n",
    "            break\n",
    "\n",
    "        # Save the frame as an image file\n",
    "        output_path = f'images\\{video_date}\\{video}\\{\"frame\"}_{frame_count:06d}.jpg'\n",
    "        x1, y1, x2, y2 = 0, 0,800,800\n",
    "        roi = frame[y1:y2, x1:x2]\n",
    "        cv2.imwrite(output_path, roi)\n",
    "\n",
    "        # Increment the frame counter\n",
    "        frame_count += 1\n",
    "\n",
    "    # Release the video capture object\n",
    "    cap.release()"
   ]
  },
  {
   "cell_type": "code",
   "execution_count": 8,
   "metadata": {},
   "outputs": [],
   "source": [
    "data_path='subset'\n",
    "data_preprocessed_path = 'preprocessed_subset'\n",
    "\n",
    "dataset_list = os.listdir(data_path)\n",
    "\n",
    "for dataset in dataset_list :\n",
    "    img_list=os.listdir(data_path+'/' + dataset+'/')\n",
    "    for img in img_list:\n",
    "        img_r = cv2.imread(data_path+'/'+ dataset+'/'+img)\n",
    "\n",
    "        # Define the region of interest (ROI) to crop\n",
    "        x1, y1, x2, y2 = 260, 669, 933, 1155\n",
    "        roi = img_r[y1:y2, x1:x2]\n",
    "                \n",
    "        # Get image dimensions\n",
    "        height, width = roi.shape[:2]\n",
    "\n",
    "        # Define the rotation angle in degrees\n",
    "        angle = 180\n",
    "\n",
    "        # Define the rotation center\n",
    "        center = (width / 2, height / 2)\n",
    "\n",
    "        # Perform the rotation\n",
    "        M = cv2.getRotationMatrix2D(center, angle, 1)\n",
    "        rotated_roi = cv2.warpAffine(roi, M, (width, height))\n",
    "        \n",
    "        output_path = data_preprocessed_path+'/' + dataset\n",
    "\n",
    "        if not os.path.exists(output_path):\n",
    "            os.makedirs(output_path)\n",
    "        \n",
    "        cv2.imwrite(output_path + '/' + img,rotated_roi)"
   ]
  }
 ],
 "metadata": {
  "kernelspec": {
   "display_name": "env_master_project",
   "language": "python",
   "name": "python3"
  },
  "language_info": {
   "codemirror_mode": {
    "name": "ipython",
    "version": 3
   },
   "file_extension": ".py",
   "mimetype": "text/x-python",
   "name": "python",
   "nbconvert_exporter": "python",
   "pygments_lexer": "ipython3",
   "version": "3.10.10"
  },
  "orig_nbformat": 4
 },
 "nbformat": 4,
 "nbformat_minor": 2
}
